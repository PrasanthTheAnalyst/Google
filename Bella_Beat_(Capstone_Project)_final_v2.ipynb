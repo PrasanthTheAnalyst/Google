{
  "nbformat": 4,
  "nbformat_minor": 0,
  "metadata": {
    "colab": {
      "name": "Bella Beat (Capstone Project).ipynb",
      "provenance": [],
      "collapsed_sections": []
    },
    "kernelspec": {
      "name": "python3",
      "display_name": "Python 3"
    },
    "language_info": {
      "name": "python"
    }
  },
  "cells": [
    {
      "cell_type": "markdown",
      "metadata": {
        "id": "hHmsXHh1STjR"
      },
      "source": [
        "#Case Study - (Bella Beat) How Can a Wellness Technology Company Play It Smart?"
      ]
    },
    {
      "cell_type": "markdown",
      "metadata": {
        "id": "VPV6NU-kSpPA"
      },
      "source": [
        "This is a capstone project for Google Data Analytics Professional Certificate Course"
      ]
    },
    {
      "cell_type": "markdown",
      "metadata": {
        "id": "33SpPNZpSxh_"
      },
      "source": [
        "Bellabeat is a high-tech manufacturer of beautifully-designed health-focused smart products for women since 2013. Inspiring and empowering women with knowledge about their own health and habits, Bellabeat has grown rapidly and quickly positioned itself as a tech-driven wellness company for females.\n",
        "\n",
        "The co-founder and Chief Creative Officer, Urška Sršen is confident that an analysis of non-Bellebeat consumer data (ie. FitBit fitness tracker usage data) would reveal more opportunities for growth.\n",
        "\n",
        "\n",
        "\n"
      ]
    },
    {
      "cell_type": "markdown",
      "metadata": {
        "id": "yM_-jfaMUBFw"
      },
      "source": [
        "I will be using 6 phases for the analysis such as Ask, Prepare, Process, Analyse, Share and Act."
      ]
    },
    {
      "cell_type": "markdown",
      "metadata": {
        "id": "Q1Nr6LrOU-uo"
      },
      "source": [
        "***#Phase 1: Ask***"
      ]
    },
    {
      "cell_type": "markdown",
      "metadata": {
        "id": "ldSCkY2cVD8v"
      },
      "source": [
        "**Business Task**\n",
        "\n",
        "Analyze FitBit fitness tracker data to gain insights into **how consumers are using the FitBit app and discover trends for Bellabeat marketing strategy**."
      ]
    },
    {
      "cell_type": "markdown",
      "metadata": {
        "id": "CFhmIudKVjeH"
      },
      "source": [
        "**Business Objective**\n",
        "\n",
        "1. What are some trends identified?\n",
        "2. How can these trends be applied to BellaBeat customers?\n",
        "3. How could these trends help influence Bellabeat marketing strategy?"
      ]
    },
    {
      "cell_type": "markdown",
      "metadata": {
        "id": "Sx0rYVKZWD3e"
      },
      "source": [
        "**Deliverables**\n",
        "\n",
        "1. A clear summary of the business task\n",
        "2. A description of all data sources used\n",
        "3. Documentation of any cleaning or manipulation of data\n",
        "4. A summary of your analysis\n",
        "5. Supporting visualizations and key findings\n",
        "6. Your top high-level content recommendations based on your analysis"
      ]
    },
    {
      "cell_type": "markdown",
      "metadata": {
        "id": "4lwcWrIDWQgO"
      },
      "source": [
        "**Stakeholders**\n",
        "\n",
        "1. **Urška Sršen:** Bellabeat’s cofounder and Chief Creative Officer\n",
        "\n",
        "2. **Sando Mur:** Mathematician, Bellabeat’s cofounder and key member of the Bellabeat executive team\n",
        "\n",
        "3. **Bellabeat marketing analytics team:** A team of data analysts guiding Bellabeat’s marketing strategy."
      ]
    },
    {
      "cell_type": "markdown",
      "metadata": {
        "id": "4LKwQ2iuWvSY"
      },
      "source": [
        "***#Phase 2: Prepare***"
      ]
    },
    {
      "cell_type": "markdown",
      "metadata": {
        "id": "qirosA1PW7Tt"
      },
      "source": [
        "**Information on Data set**\n",
        "\n",
        "\n",
        "*   Publicly available FitBit Fitness Tracker Data from Kaggle.\n",
        "\n",
        "*   30 Fitbit users personal tracker data, including minute-level output for physical activity, heart rate, and sleep monitoring. \n",
        "\n",
        "* The Dataset includes information about daily activity, steps, and heart rate that can be used to explore users’ habits.\n"
      ]
    },
    {
      "cell_type": "markdown",
      "metadata": {
        "id": "tlgQ80EXYZJQ"
      },
      "source": [
        "**Credibility of the Dataset- Based on ROCCC**\n",
        "\n",
        "A good data source is ROCCC which stands for Reliable, Original, Comprehensive, Current, and Cited.\n",
        "\n",
        "**Reliable**— LOW — Not reliable as it only has 30 respondents\n",
        "\n",
        "**Original** — LOW — Third party provider (Amazon Mechanical Turk)\n",
        "\n",
        "**Comprehensive** — MED — Parameters match most of Bellabeat products’ parameters\n",
        "\n",
        "**Current** — LOW — Data is 5 years old and may not be relevant\n",
        "\n",
        "**Cited** — LOW — Data collected from third party, hence unknown\n",
        "\n",
        "Overall, the dataset is considered **bad quality data** and the recommendations should only be considered as first hint or direction for the company to take strategical decisions."
      ]
    },
    {
      "cell_type": "markdown",
      "metadata": {
        "id": "d6unYX_CZl0f"
      },
      "source": [
        "**Limitations of the Dataset**\n",
        "\n",
        "* Data was collected 5 years back in 2016 (may not be relavent for todays trend)\n",
        "\n",
        "* Data was collected based on paid survey on Amazon Mechanical Turk.\n",
        "\n",
        "* This Dataset is Biased. (sample collected is not a representation of all fit-bit users)\n",
        "\n"
      ]
    },
    {
      "cell_type": "markdown",
      "metadata": {
        "id": "lyFInxQhab78"
      },
      "source": [
        "**Data**\n",
        "\n",
        "The following files are selected for analysis using Python as downloaded from kaggle.\n",
        "\n",
        "2 csv files\n",
        "\n",
        "dailyActivity_merged.csv\n",
        "\n",
        "sleepDay_merged.csv\n",
        "\n"
      ]
    },
    {
      "cell_type": "markdown",
      "metadata": {
        "id": "Tz5J_gtAb6O-"
      },
      "source": [
        "***#Phase 3: Process***"
      ]
    },
    {
      "cell_type": "markdown",
      "metadata": {
        "id": "uN41vud5cRAe"
      },
      "source": [
        "Here, we will process the data by cleaning and ensuring that it is correct, relevant, complete and free of error and outlier by performing:\n",
        "\n",
        "* Explore and observe data\n",
        "* Check for and treat missing or null values\n",
        "* Transform data — format data type\n",
        "* Perform preliminary statistical analysis"
      ]
    },
    {
      "cell_type": "markdown",
      "metadata": {
        "id": "Jk3ZyPrXcdGx"
      },
      "source": [
        "**Installing the required python libraries**"
      ]
    },
    {
      "cell_type": "code",
      "metadata": {
        "id": "-abOiZmJc9TQ"
      },
      "source": [
        "import pandas as pd\n",
        "import numpy as np\n",
        "import matplotlib.pyplot as plt\n",
        "import seaborn as sns\n",
        "from datetime import datetime as dt"
      ],
      "execution_count": null,
      "outputs": []
    },
    {
      "cell_type": "markdown",
      "metadata": {
        "id": "N0ARe4IndSik"
      },
      "source": [
        "**Importing dataset**"
      ]
    },
    {
      "cell_type": "code",
      "metadata": {
        "id": "iw0zBuE0dLh6"
      },
      "source": [
        "daily_activity = pd.read_csv(\"/content/dailyActivity_merged.csv\")\n",
        "daily_sleep = pd.read_csv(\"/content/sleepDay_merged.csv\")\n"
      ],
      "execution_count": null,
      "outputs": []
    },
    {
      "cell_type": "markdown",
      "metadata": {
        "id": "oanNIDiFfqQt"
      },
      "source": [
        "**Data wrangling**"
      ]
    },
    {
      "cell_type": "code",
      "metadata": {
        "colab": {
          "base_uri": "https://localhost:8080/",
          "height": 224
        },
        "id": "T6VEoFXZdbhz",
        "outputId": "e8f11100-b230-489f-fd29-a81edeae5dc6"
      },
      "source": [
        "daily_activity.head()"
      ],
      "execution_count": null,
      "outputs": [
        {
          "output_type": "execute_result",
          "data": {
            "text/html": [
              "<div>\n",
              "<style scoped>\n",
              "    .dataframe tbody tr th:only-of-type {\n",
              "        vertical-align: middle;\n",
              "    }\n",
              "\n",
              "    .dataframe tbody tr th {\n",
              "        vertical-align: top;\n",
              "    }\n",
              "\n",
              "    .dataframe thead th {\n",
              "        text-align: right;\n",
              "    }\n",
              "</style>\n",
              "<table border=\"1\" class=\"dataframe\">\n",
              "  <thead>\n",
              "    <tr style=\"text-align: right;\">\n",
              "      <th></th>\n",
              "      <th>Id</th>\n",
              "      <th>ActivityDate</th>\n",
              "      <th>TotalSteps</th>\n",
              "      <th>TotalDistance</th>\n",
              "      <th>TrackerDistance</th>\n",
              "      <th>LoggedActivitiesDistance</th>\n",
              "      <th>VeryActiveDistance</th>\n",
              "      <th>ModeratelyActiveDistance</th>\n",
              "      <th>LightActiveDistance</th>\n",
              "      <th>SedentaryActiveDistance</th>\n",
              "      <th>VeryActiveMinutes</th>\n",
              "      <th>FairlyActiveMinutes</th>\n",
              "      <th>LightlyActiveMinutes</th>\n",
              "      <th>SedentaryMinutes</th>\n",
              "      <th>Calories</th>\n",
              "    </tr>\n",
              "  </thead>\n",
              "  <tbody>\n",
              "    <tr>\n",
              "      <th>0</th>\n",
              "      <td>1503960366</td>\n",
              "      <td>4/12/2016</td>\n",
              "      <td>13162</td>\n",
              "      <td>8.50</td>\n",
              "      <td>8.50</td>\n",
              "      <td>0.0</td>\n",
              "      <td>1.88</td>\n",
              "      <td>0.55</td>\n",
              "      <td>6.06</td>\n",
              "      <td>0.0</td>\n",
              "      <td>25</td>\n",
              "      <td>13</td>\n",
              "      <td>328</td>\n",
              "      <td>728</td>\n",
              "      <td>1985</td>\n",
              "    </tr>\n",
              "    <tr>\n",
              "      <th>1</th>\n",
              "      <td>1503960366</td>\n",
              "      <td>4/13/2016</td>\n",
              "      <td>10735</td>\n",
              "      <td>6.97</td>\n",
              "      <td>6.97</td>\n",
              "      <td>0.0</td>\n",
              "      <td>1.57</td>\n",
              "      <td>0.69</td>\n",
              "      <td>4.71</td>\n",
              "      <td>0.0</td>\n",
              "      <td>21</td>\n",
              "      <td>19</td>\n",
              "      <td>217</td>\n",
              "      <td>776</td>\n",
              "      <td>1797</td>\n",
              "    </tr>\n",
              "    <tr>\n",
              "      <th>2</th>\n",
              "      <td>1503960366</td>\n",
              "      <td>4/14/2016</td>\n",
              "      <td>10460</td>\n",
              "      <td>6.74</td>\n",
              "      <td>6.74</td>\n",
              "      <td>0.0</td>\n",
              "      <td>2.44</td>\n",
              "      <td>0.40</td>\n",
              "      <td>3.91</td>\n",
              "      <td>0.0</td>\n",
              "      <td>30</td>\n",
              "      <td>11</td>\n",
              "      <td>181</td>\n",
              "      <td>1218</td>\n",
              "      <td>1776</td>\n",
              "    </tr>\n",
              "    <tr>\n",
              "      <th>3</th>\n",
              "      <td>1503960366</td>\n",
              "      <td>4/15/2016</td>\n",
              "      <td>9762</td>\n",
              "      <td>6.28</td>\n",
              "      <td>6.28</td>\n",
              "      <td>0.0</td>\n",
              "      <td>2.14</td>\n",
              "      <td>1.26</td>\n",
              "      <td>2.83</td>\n",
              "      <td>0.0</td>\n",
              "      <td>29</td>\n",
              "      <td>34</td>\n",
              "      <td>209</td>\n",
              "      <td>726</td>\n",
              "      <td>1745</td>\n",
              "    </tr>\n",
              "    <tr>\n",
              "      <th>4</th>\n",
              "      <td>1503960366</td>\n",
              "      <td>4/16/2016</td>\n",
              "      <td>12669</td>\n",
              "      <td>8.16</td>\n",
              "      <td>8.16</td>\n",
              "      <td>0.0</td>\n",
              "      <td>2.71</td>\n",
              "      <td>0.41</td>\n",
              "      <td>5.04</td>\n",
              "      <td>0.0</td>\n",
              "      <td>36</td>\n",
              "      <td>10</td>\n",
              "      <td>221</td>\n",
              "      <td>773</td>\n",
              "      <td>1863</td>\n",
              "    </tr>\n",
              "  </tbody>\n",
              "</table>\n",
              "</div>"
            ],
            "text/plain": [
              "           Id ActivityDate  ...  SedentaryMinutes  Calories\n",
              "0  1503960366    4/12/2016  ...               728      1985\n",
              "1  1503960366    4/13/2016  ...               776      1797\n",
              "2  1503960366    4/14/2016  ...              1218      1776\n",
              "3  1503960366    4/15/2016  ...               726      1745\n",
              "4  1503960366    4/16/2016  ...               773      1863\n",
              "\n",
              "[5 rows x 15 columns]"
            ]
          },
          "metadata": {},
          "execution_count": 3
        }
      ]
    },
    {
      "cell_type": "markdown",
      "metadata": {
        "id": "d3VHKyKUhCQk"
      },
      "source": [
        "content of this dataset: \n",
        "Id, Date, Steps Taken, Distance Travelled, Active Distance, Active Minutes, Calories Burnt"
      ]
    },
    {
      "cell_type": "markdown",
      "metadata": {
        "id": "yvw1RrNu9glC"
      },
      "source": [
        "Checking the Data types, total count of non-null, Column names "
      ]
    },
    {
      "cell_type": "code",
      "metadata": {
        "colab": {
          "base_uri": "https://localhost:8080/"
        },
        "id": "JIrJUKGJ9Xkf",
        "outputId": "52c7f7d0-f668-402b-dcb6-01b4c0a793af"
      },
      "source": [
        "daily_activity.info()"
      ],
      "execution_count": null,
      "outputs": [
        {
          "output_type": "stream",
          "text": [
            "<class 'pandas.core.frame.DataFrame'>\n",
            "RangeIndex: 940 entries, 0 to 939\n",
            "Data columns (total 15 columns):\n",
            " #   Column                    Non-Null Count  Dtype  \n",
            "---  ------                    --------------  -----  \n",
            " 0   Id                        940 non-null    int64  \n",
            " 1   ActivityDate              940 non-null    object \n",
            " 2   TotalSteps                940 non-null    int64  \n",
            " 3   TotalDistance             940 non-null    float64\n",
            " 4   TrackerDistance           940 non-null    float64\n",
            " 5   LoggedActivitiesDistance  940 non-null    float64\n",
            " 6   VeryActiveDistance        940 non-null    float64\n",
            " 7   ModeratelyActiveDistance  940 non-null    float64\n",
            " 8   LightActiveDistance       940 non-null    float64\n",
            " 9   SedentaryActiveDistance   940 non-null    float64\n",
            " 10  VeryActiveMinutes         940 non-null    int64  \n",
            " 11  FairlyActiveMinutes       940 non-null    int64  \n",
            " 12  LightlyActiveMinutes      940 non-null    int64  \n",
            " 13  SedentaryMinutes          940 non-null    int64  \n",
            " 14  Calories                  940 non-null    int64  \n",
            "dtypes: float64(7), int64(7), object(1)\n",
            "memory usage: 110.3+ KB\n"
          ],
          "name": "stdout"
        }
      ]
    },
    {
      "cell_type": "markdown",
      "metadata": {
        "id": "HcQHDeEk9X8Z"
      },
      "source": [
        "Nummber of null-values in the dataset"
      ]
    },
    {
      "cell_type": "code",
      "metadata": {
        "id": "n05taqcAjVvq",
        "colab": {
          "base_uri": "https://localhost:8080/"
        },
        "outputId": "1f7f8ea2-86cc-4756-dad2-22b5aa0462d7"
      },
      "source": [
        "daily_activity.isnull().sum()"
      ],
      "execution_count": null,
      "outputs": [
        {
          "output_type": "execute_result",
          "data": {
            "text/plain": [
              "Id                          0\n",
              "ActivityDate                0\n",
              "TotalSteps                  0\n",
              "TotalDistance               0\n",
              "TrackerDistance             0\n",
              "LoggedActivitiesDistance    0\n",
              "VeryActiveDistance          0\n",
              "ModeratelyActiveDistance    0\n",
              "LightActiveDistance         0\n",
              "SedentaryActiveDistance     0\n",
              "VeryActiveMinutes           0\n",
              "FairlyActiveMinutes         0\n",
              "LightlyActiveMinutes        0\n",
              "SedentaryMinutes            0\n",
              "Calories                    0\n",
              "dtype: int64"
            ]
          },
          "metadata": {},
          "execution_count": 5
        }
      ]
    },
    {
      "cell_type": "markdown",
      "metadata": {
        "id": "8fxPYFod94T5"
      },
      "source": [
        "verifying the number of unique users in the dataset"
      ]
    },
    {
      "cell_type": "code",
      "metadata": {
        "id": "fgRS5mad9Nsn"
      },
      "source": [
        "unique_ids=set(daily_activity['Id'].unique())"
      ],
      "execution_count": null,
      "outputs": []
    },
    {
      "cell_type": "code",
      "metadata": {
        "colab": {
          "base_uri": "https://localhost:8080/"
        },
        "id": "wY6uSjMb-D2W",
        "outputId": "57ed6d9b-39ec-430e-cb30-717aa5bb21b7"
      },
      "source": [
        "len(unique_ids)"
      ],
      "execution_count": null,
      "outputs": [
        {
          "output_type": "execute_result",
          "data": {
            "text/plain": [
              "33"
            ]
          },
          "metadata": {},
          "execution_count": 7
        }
      ]
    },
    {
      "cell_type": "code",
      "metadata": {
        "colab": {
          "base_uri": "https://localhost:8080/",
          "height": 204
        },
        "id": "CSOK7YiPS_XM",
        "outputId": "9a503829-c44b-40f9-b15a-47376d62c196"
      },
      "source": [
        "daily_sleep.head()"
      ],
      "execution_count": null,
      "outputs": [
        {
          "output_type": "execute_result",
          "data": {
            "text/html": [
              "<div>\n",
              "<style scoped>\n",
              "    .dataframe tbody tr th:only-of-type {\n",
              "        vertical-align: middle;\n",
              "    }\n",
              "\n",
              "    .dataframe tbody tr th {\n",
              "        vertical-align: top;\n",
              "    }\n",
              "\n",
              "    .dataframe thead th {\n",
              "        text-align: right;\n",
              "    }\n",
              "</style>\n",
              "<table border=\"1\" class=\"dataframe\">\n",
              "  <thead>\n",
              "    <tr style=\"text-align: right;\">\n",
              "      <th></th>\n",
              "      <th>Id</th>\n",
              "      <th>SleepDay</th>\n",
              "      <th>TotalSleepRecords</th>\n",
              "      <th>TotalMinutesAsleep</th>\n",
              "      <th>TotalTimeInBed</th>\n",
              "    </tr>\n",
              "  </thead>\n",
              "  <tbody>\n",
              "    <tr>\n",
              "      <th>0</th>\n",
              "      <td>1503960366</td>\n",
              "      <td>4/12/2016 12:00:00 AM</td>\n",
              "      <td>1</td>\n",
              "      <td>327</td>\n",
              "      <td>346</td>\n",
              "    </tr>\n",
              "    <tr>\n",
              "      <th>1</th>\n",
              "      <td>1503960366</td>\n",
              "      <td>4/13/2016 12:00:00 AM</td>\n",
              "      <td>2</td>\n",
              "      <td>384</td>\n",
              "      <td>407</td>\n",
              "    </tr>\n",
              "    <tr>\n",
              "      <th>2</th>\n",
              "      <td>1503960366</td>\n",
              "      <td>4/15/2016 12:00:00 AM</td>\n",
              "      <td>1</td>\n",
              "      <td>412</td>\n",
              "      <td>442</td>\n",
              "    </tr>\n",
              "    <tr>\n",
              "      <th>3</th>\n",
              "      <td>1503960366</td>\n",
              "      <td>4/16/2016 12:00:00 AM</td>\n",
              "      <td>2</td>\n",
              "      <td>340</td>\n",
              "      <td>367</td>\n",
              "    </tr>\n",
              "    <tr>\n",
              "      <th>4</th>\n",
              "      <td>1503960366</td>\n",
              "      <td>4/17/2016 12:00:00 AM</td>\n",
              "      <td>1</td>\n",
              "      <td>700</td>\n",
              "      <td>712</td>\n",
              "    </tr>\n",
              "  </tbody>\n",
              "</table>\n",
              "</div>"
            ],
            "text/plain": [
              "           Id               SleepDay  ...  TotalMinutesAsleep  TotalTimeInBed\n",
              "0  1503960366  4/12/2016 12:00:00 AM  ...                 327             346\n",
              "1  1503960366  4/13/2016 12:00:00 AM  ...                 384             407\n",
              "2  1503960366  4/15/2016 12:00:00 AM  ...                 412             442\n",
              "3  1503960366  4/16/2016 12:00:00 AM  ...                 340             367\n",
              "4  1503960366  4/17/2016 12:00:00 AM  ...                 700             712\n",
              "\n",
              "[5 rows x 5 columns]"
            ]
          },
          "metadata": {},
          "execution_count": 8
        }
      ]
    },
    {
      "cell_type": "code",
      "metadata": {
        "colab": {
          "base_uri": "https://localhost:8080/"
        },
        "id": "QaB4UpsWSTyj",
        "outputId": "cabe670f-ea17-4794-9321-b5491283c4c0"
      },
      "source": [
        "daily_sleep.info()"
      ],
      "execution_count": null,
      "outputs": [
        {
          "output_type": "stream",
          "text": [
            "<class 'pandas.core.frame.DataFrame'>\n",
            "RangeIndex: 413 entries, 0 to 412\n",
            "Data columns (total 5 columns):\n",
            " #   Column              Non-Null Count  Dtype \n",
            "---  ------              --------------  ----- \n",
            " 0   Id                  413 non-null    int64 \n",
            " 1   SleepDay            413 non-null    object\n",
            " 2   TotalSleepRecords   413 non-null    int64 \n",
            " 3   TotalMinutesAsleep  413 non-null    int64 \n",
            " 4   TotalTimeInBed      413 non-null    int64 \n",
            "dtypes: int64(4), object(1)\n",
            "memory usage: 16.3+ KB\n"
          ],
          "name": "stdout"
        }
      ]
    },
    {
      "cell_type": "code",
      "metadata": {
        "colab": {
          "base_uri": "https://localhost:8080/"
        },
        "id": "ZJYaTjw9SUpy",
        "outputId": "5c631d8a-1fd5-46ac-ed40-fff8598074ea"
      },
      "source": [
        "daily_sleep.isnull().sum()"
      ],
      "execution_count": null,
      "outputs": [
        {
          "output_type": "execute_result",
          "data": {
            "text/plain": [
              "Id                    0\n",
              "SleepDay              0\n",
              "TotalSleepRecords     0\n",
              "TotalMinutesAsleep    0\n",
              "TotalTimeInBed        0\n",
              "dtype: int64"
            ]
          },
          "metadata": {},
          "execution_count": 10
        }
      ]
    },
    {
      "cell_type": "code",
      "metadata": {
        "colab": {
          "base_uri": "https://localhost:8080/"
        },
        "id": "U0MVO5_oSN6k",
        "outputId": "fbae6038-c82d-44c1-86bf-fbd9e1dcae86"
      },
      "source": [
        "daily_sleep.duplicated().value_counts()"
      ],
      "execution_count": null,
      "outputs": [
        {
          "output_type": "execute_result",
          "data": {
            "text/plain": [
              "False    410\n",
              "True       3\n",
              "dtype: int64"
            ]
          },
          "metadata": {},
          "execution_count": 11
        }
      ]
    },
    {
      "cell_type": "markdown",
      "metadata": {
        "id": "whGQi6ED-qu_"
      },
      "source": [
        "**Obervations**\n",
        "\n",
        "From daily_activity Dataset:\n",
        "1. There are 33 unique users in the dataset \n",
        "\n",
        "2. There are no null values \n",
        "\n",
        "3. There are 940 rows and 10 columns\n",
        "\n",
        "4. ActivityDate is wrongly classified as object instead of Date\n",
        "\n",
        "From daily_sleep Dataset:\n",
        "\n",
        "1. SleepDay is wrongly classified as object instead of DateTime\n",
        "\n",
        "2. There are 410 rows and 5 columns  \n",
        "\n",
        "3. The dataset has 3 duplicate rows\n",
        "\n",
        "4. There are no null values \n",
        "\n"
      ]
    },
    {
      "cell_type": "code",
      "metadata": {
        "id": "gFur7D4B-qSJ"
      },
      "source": [
        "daily_activity[\"ActivityDate\"] = pd.to_datetime(daily_activity[\"ActivityDate\"], format=\"%m/%d/%Y\")"
      ],
      "execution_count": null,
      "outputs": []
    },
    {
      "cell_type": "code",
      "metadata": {
        "colab": {
          "base_uri": "https://localhost:8080/"
        },
        "id": "V13EhYPt-XaI",
        "outputId": "b610ff38-9276-44b3-f5f2-054df87f8d80"
      },
      "source": [
        "daily_activity.info()"
      ],
      "execution_count": null,
      "outputs": [
        {
          "output_type": "stream",
          "text": [
            "<class 'pandas.core.frame.DataFrame'>\n",
            "RangeIndex: 940 entries, 0 to 939\n",
            "Data columns (total 15 columns):\n",
            " #   Column                    Non-Null Count  Dtype         \n",
            "---  ------                    --------------  -----         \n",
            " 0   Id                        940 non-null    int64         \n",
            " 1   ActivityDate              940 non-null    datetime64[ns]\n",
            " 2   TotalSteps                940 non-null    int64         \n",
            " 3   TotalDistance             940 non-null    float64       \n",
            " 4   TrackerDistance           940 non-null    float64       \n",
            " 5   LoggedActivitiesDistance  940 non-null    float64       \n",
            " 6   VeryActiveDistance        940 non-null    float64       \n",
            " 7   ModeratelyActiveDistance  940 non-null    float64       \n",
            " 8   LightActiveDistance       940 non-null    float64       \n",
            " 9   SedentaryActiveDistance   940 non-null    float64       \n",
            " 10  VeryActiveMinutes         940 non-null    int64         \n",
            " 11  FairlyActiveMinutes       940 non-null    int64         \n",
            " 12  LightlyActiveMinutes      940 non-null    int64         \n",
            " 13  SedentaryMinutes          940 non-null    int64         \n",
            " 14  Calories                  940 non-null    int64         \n",
            "dtypes: datetime64[ns](1), float64(7), int64(7)\n",
            "memory usage: 110.3 KB\n"
          ],
          "name": "stdout"
        }
      ]
    },
    {
      "cell_type": "code",
      "metadata": {
        "colab": {
          "base_uri": "https://localhost:8080/"
        },
        "id": "mxpku8s_AxvY",
        "outputId": "4f890784-86bf-4b39-a725-7386a98c7729"
      },
      "source": [
        "daily_activity['ActivityDate']"
      ],
      "execution_count": null,
      "outputs": [
        {
          "output_type": "execute_result",
          "data": {
            "text/plain": [
              "0     2016-04-12\n",
              "1     2016-04-13\n",
              "2     2016-04-14\n",
              "3     2016-04-15\n",
              "4     2016-04-16\n",
              "         ...    \n",
              "935   2016-05-08\n",
              "936   2016-05-09\n",
              "937   2016-05-10\n",
              "938   2016-05-11\n",
              "939   2016-05-12\n",
              "Name: ActivityDate, Length: 940, dtype: datetime64[ns]"
            ]
          },
          "metadata": {},
          "execution_count": 15
        }
      ]
    },
    {
      "cell_type": "markdown",
      "metadata": {
        "id": "F42ahbtyBlIu"
      },
      "source": [
        "Creating a new column 'date_week' for days of the week"
      ]
    },
    {
      "cell_type": "code",
      "metadata": {
        "id": "iV17ayhKA9Tv"
      },
      "source": [
        "daily_activity['date_week'] = daily_activity['ActivityDate'].dt.day_name()"
      ],
      "execution_count": null,
      "outputs": []
    },
    {
      "cell_type": "code",
      "metadata": {
        "colab": {
          "base_uri": "https://localhost:8080/"
        },
        "id": "auLE7aI9BZBn",
        "outputId": "8e7e7770-c811-4a82-fef1-33048568f5e3"
      },
      "source": [
        "daily_activity['date_week']"
      ],
      "execution_count": null,
      "outputs": [
        {
          "output_type": "execute_result",
          "data": {
            "text/plain": [
              "0        Tuesday\n",
              "1      Wednesday\n",
              "2       Thursday\n",
              "3         Friday\n",
              "4       Saturday\n",
              "         ...    \n",
              "935       Sunday\n",
              "936       Monday\n",
              "937      Tuesday\n",
              "938    Wednesday\n",
              "939     Thursday\n",
              "Name: date_week, Length: 940, dtype: object"
            ]
          },
          "metadata": {},
          "execution_count": 17
        }
      ]
    },
    {
      "cell_type": "code",
      "metadata": {
        "id": "sB91TdJ2Bezs"
      },
      "source": [
        "daily_activity.rename(columns = {\"Id\":\"id\", \"ActivityDate\":\"date\", \"date_week\":\"day_of_the_week\", \"TotalSteps\":\"total_steps\", \"TotalDistance\":\"total_dist\", \"TrackerDistance\":\"track_dist\", \"LoggedActivitiesDistance\":\"logged_dist\", \"VeryActiveDistance\":\"very_active_dist\", \"ModeratelyActiveDistance\":\"moderate_active_dist\", \"LightActiveDistance\":\"light_active_dist\", \"SedentaryActiveDistance\":\"sedentary_active_dist\", \"VeryActiveMinutes\":\"very_active_mins\", \"FairlyActiveMinutes\":\"fairly_active_mins\", \"LightlyActiveMinutes\":\"lightly_active_mins\", \"SedentaryMinutes\":\"sedentary_mins\", \"TotalExerciseMinutes\":\"total_mins\",\"TotalExerciseHours\":\"total_hours\",\"Calories\":\"calories\"}, inplace = True)"
      ],
      "execution_count": null,
      "outputs": []
    },
    {
      "cell_type": "code",
      "metadata": {
        "colab": {
          "base_uri": "https://localhost:8080/",
          "height": 309
        },
        "id": "vjKTZIvECE_V",
        "outputId": "8a9821e3-9668-41fd-8419-b44be2f5d1b0"
      },
      "source": [
        "daily_activity.head()"
      ],
      "execution_count": null,
      "outputs": [
        {
          "output_type": "execute_result",
          "data": {
            "text/html": [
              "<div>\n",
              "<style scoped>\n",
              "    .dataframe tbody tr th:only-of-type {\n",
              "        vertical-align: middle;\n",
              "    }\n",
              "\n",
              "    .dataframe tbody tr th {\n",
              "        vertical-align: top;\n",
              "    }\n",
              "\n",
              "    .dataframe thead th {\n",
              "        text-align: right;\n",
              "    }\n",
              "</style>\n",
              "<table border=\"1\" class=\"dataframe\">\n",
              "  <thead>\n",
              "    <tr style=\"text-align: right;\">\n",
              "      <th></th>\n",
              "      <th>id</th>\n",
              "      <th>date</th>\n",
              "      <th>total_steps</th>\n",
              "      <th>total_dist</th>\n",
              "      <th>track_dist</th>\n",
              "      <th>logged_dist</th>\n",
              "      <th>very_active_dist</th>\n",
              "      <th>moderate_active_dist</th>\n",
              "      <th>light_active_dist</th>\n",
              "      <th>sedentary_active_dist</th>\n",
              "      <th>very_active_mins</th>\n",
              "      <th>fairly_active_mins</th>\n",
              "      <th>lightly_active_mins</th>\n",
              "      <th>sedentary_mins</th>\n",
              "      <th>calories</th>\n",
              "      <th>day_of_the_week</th>\n",
              "    </tr>\n",
              "  </thead>\n",
              "  <tbody>\n",
              "    <tr>\n",
              "      <th>0</th>\n",
              "      <td>1503960366</td>\n",
              "      <td>2016-04-12</td>\n",
              "      <td>13162</td>\n",
              "      <td>8.50</td>\n",
              "      <td>8.50</td>\n",
              "      <td>0.0</td>\n",
              "      <td>1.88</td>\n",
              "      <td>0.55</td>\n",
              "      <td>6.06</td>\n",
              "      <td>0.0</td>\n",
              "      <td>25</td>\n",
              "      <td>13</td>\n",
              "      <td>328</td>\n",
              "      <td>728</td>\n",
              "      <td>1985</td>\n",
              "      <td>Tuesday</td>\n",
              "    </tr>\n",
              "    <tr>\n",
              "      <th>1</th>\n",
              "      <td>1503960366</td>\n",
              "      <td>2016-04-13</td>\n",
              "      <td>10735</td>\n",
              "      <td>6.97</td>\n",
              "      <td>6.97</td>\n",
              "      <td>0.0</td>\n",
              "      <td>1.57</td>\n",
              "      <td>0.69</td>\n",
              "      <td>4.71</td>\n",
              "      <td>0.0</td>\n",
              "      <td>21</td>\n",
              "      <td>19</td>\n",
              "      <td>217</td>\n",
              "      <td>776</td>\n",
              "      <td>1797</td>\n",
              "      <td>Wednesday</td>\n",
              "    </tr>\n",
              "    <tr>\n",
              "      <th>2</th>\n",
              "      <td>1503960366</td>\n",
              "      <td>2016-04-14</td>\n",
              "      <td>10460</td>\n",
              "      <td>6.74</td>\n",
              "      <td>6.74</td>\n",
              "      <td>0.0</td>\n",
              "      <td>2.44</td>\n",
              "      <td>0.40</td>\n",
              "      <td>3.91</td>\n",
              "      <td>0.0</td>\n",
              "      <td>30</td>\n",
              "      <td>11</td>\n",
              "      <td>181</td>\n",
              "      <td>1218</td>\n",
              "      <td>1776</td>\n",
              "      <td>Thursday</td>\n",
              "    </tr>\n",
              "    <tr>\n",
              "      <th>3</th>\n",
              "      <td>1503960366</td>\n",
              "      <td>2016-04-15</td>\n",
              "      <td>9762</td>\n",
              "      <td>6.28</td>\n",
              "      <td>6.28</td>\n",
              "      <td>0.0</td>\n",
              "      <td>2.14</td>\n",
              "      <td>1.26</td>\n",
              "      <td>2.83</td>\n",
              "      <td>0.0</td>\n",
              "      <td>29</td>\n",
              "      <td>34</td>\n",
              "      <td>209</td>\n",
              "      <td>726</td>\n",
              "      <td>1745</td>\n",
              "      <td>Friday</td>\n",
              "    </tr>\n",
              "    <tr>\n",
              "      <th>4</th>\n",
              "      <td>1503960366</td>\n",
              "      <td>2016-04-16</td>\n",
              "      <td>12669</td>\n",
              "      <td>8.16</td>\n",
              "      <td>8.16</td>\n",
              "      <td>0.0</td>\n",
              "      <td>2.71</td>\n",
              "      <td>0.41</td>\n",
              "      <td>5.04</td>\n",
              "      <td>0.0</td>\n",
              "      <td>36</td>\n",
              "      <td>10</td>\n",
              "      <td>221</td>\n",
              "      <td>773</td>\n",
              "      <td>1863</td>\n",
              "      <td>Saturday</td>\n",
              "    </tr>\n",
              "  </tbody>\n",
              "</table>\n",
              "</div>"
            ],
            "text/plain": [
              "           id       date  total_steps  ...  sedentary_mins  calories  day_of_the_week\n",
              "0  1503960366 2016-04-12        13162  ...             728      1985          Tuesday\n",
              "1  1503960366 2016-04-13        10735  ...             776      1797        Wednesday\n",
              "2  1503960366 2016-04-14        10460  ...            1218      1776         Thursday\n",
              "3  1503960366 2016-04-15         9762  ...             726      1745           Friday\n",
              "4  1503960366 2016-04-16        12669  ...             773      1863         Saturday\n",
              "\n",
              "[5 rows x 16 columns]"
            ]
          },
          "metadata": {},
          "execution_count": 19
        }
      ]
    },
    {
      "cell_type": "markdown",
      "metadata": {
        "id": "9asSDthECRCG"
      },
      "source": [
        "Creating a new column 'total_mins' by adding all the minutes columns"
      ]
    },
    {
      "cell_type": "code",
      "metadata": {
        "id": "DkJuNKu0CH1l"
      },
      "source": [
        "daily_activity['total_mins'] = daily_activity['very_active_mins'] +daily_activity['fairly_active_mins'] +daily_activity['lightly_active_mins']+daily_activity['sedentary_mins']"
      ],
      "execution_count": null,
      "outputs": []
    },
    {
      "cell_type": "code",
      "metadata": {
        "colab": {
          "base_uri": "https://localhost:8080/"
        },
        "id": "L3QTSjvVC4E-",
        "outputId": "ebebef2e-8da5-4644-d1d4-496d138649fd"
      },
      "source": [
        "daily_activity['total_mins'].head()"
      ],
      "execution_count": null,
      "outputs": [
        {
          "output_type": "execute_result",
          "data": {
            "text/plain": [
              "0    1094\n",
              "1    1033\n",
              "2    1440\n",
              "3     998\n",
              "4    1040\n",
              "Name: total_mins, dtype: int64"
            ]
          },
          "metadata": {},
          "execution_count": 21
        }
      ]
    },
    {
      "cell_type": "markdown",
      "metadata": {
        "id": "ECjG3DitDKoQ"
      },
      "source": [
        "Converting total minutes to total hours "
      ]
    },
    {
      "cell_type": "code",
      "metadata": {
        "id": "PX_q-r1tC8Hu"
      },
      "source": [
        "daily_activity['total_mins'] = daily_activity['total_mins']/60"
      ],
      "execution_count": null,
      "outputs": []
    },
    {
      "cell_type": "code",
      "metadata": {
        "colab": {
          "base_uri": "https://localhost:8080/"
        },
        "id": "YO9bUC-SDVnX",
        "outputId": "569464a3-7617-475a-aeed-74737017752a"
      },
      "source": [
        "round(daily_activity['total_mins'])"
      ],
      "execution_count": null,
      "outputs": [
        {
          "output_type": "execute_result",
          "data": {
            "text/plain": [
              "0      18.0\n",
              "1      17.0\n",
              "2      24.0\n",
              "3      17.0\n",
              "4      17.0\n",
              "       ... \n",
              "935    24.0\n",
              "936    24.0\n",
              "937    24.0\n",
              "938    24.0\n",
              "939    16.0\n",
              "Name: total_mins, Length: 940, dtype: float64"
            ]
          },
          "metadata": {},
          "execution_count": 23
        }
      ]
    },
    {
      "cell_type": "code",
      "metadata": {
        "colab": {
          "base_uri": "https://localhost:8080/"
        },
        "id": "JPU-h7RWROUM",
        "outputId": "5c57da74-a8f1-4cfc-855e-043df97ce64d"
      },
      "source": [
        "daily_sleep.info()"
      ],
      "execution_count": null,
      "outputs": [
        {
          "output_type": "stream",
          "text": [
            "<class 'pandas.core.frame.DataFrame'>\n",
            "RangeIndex: 413 entries, 0 to 412\n",
            "Data columns (total 5 columns):\n",
            " #   Column              Non-Null Count  Dtype \n",
            "---  ------              --------------  ----- \n",
            " 0   Id                  413 non-null    int64 \n",
            " 1   SleepDay            413 non-null    object\n",
            " 2   TotalSleepRecords   413 non-null    int64 \n",
            " 3   TotalMinutesAsleep  413 non-null    int64 \n",
            " 4   TotalTimeInBed      413 non-null    int64 \n",
            "dtypes: int64(4), object(1)\n",
            "memory usage: 16.3+ KB\n"
          ],
          "name": "stdout"
        }
      ]
    },
    {
      "cell_type": "code",
      "metadata": {
        "id": "YFG_vFirVUPj"
      },
      "source": [
        "daily_sleep[\"SleepDay\"] = pd.to_datetime(daily_sleep[\"SleepDay\"])"
      ],
      "execution_count": null,
      "outputs": []
    },
    {
      "cell_type": "code",
      "metadata": {
        "colab": {
          "base_uri": "https://localhost:8080/"
        },
        "id": "QM8eU57I-uQP",
        "outputId": "5fb356bc-11eb-4e78-cfaa-77d22b6a6d7d"
      },
      "source": [
        "daily_sleep[\"SleepDay\"]"
      ],
      "execution_count": null,
      "outputs": [
        {
          "output_type": "execute_result",
          "data": {
            "text/plain": [
              "0     2016-04-12\n",
              "1     2016-04-13\n",
              "2     2016-04-15\n",
              "3     2016-04-16\n",
              "4     2016-04-17\n",
              "         ...    \n",
              "408   2016-04-30\n",
              "409   2016-05-01\n",
              "410   2016-05-02\n",
              "411   2016-05-03\n",
              "412   2016-05-04\n",
              "Name: SleepDay, Length: 410, dtype: datetime64[ns]"
            ]
          },
          "metadata": {},
          "execution_count": 31
        }
      ]
    },
    {
      "cell_type": "code",
      "metadata": {
        "id": "8wYqzpi2RhI6"
      },
      "source": [
        "daily_sleep= daily_sleep.drop_duplicates()"
      ],
      "execution_count": null,
      "outputs": []
    },
    {
      "cell_type": "markdown",
      "metadata": {
        "id": "Lq9vI7H3Kf_3"
      },
      "source": [
        "***Phase 4: Analyze***"
      ]
    },
    {
      "cell_type": "markdown",
      "metadata": {
        "id": "cO681CSYKp21"
      },
      "source": [
        "Analyzing the statistics of the dataset"
      ]
    },
    {
      "cell_type": "code",
      "metadata": {
        "colab": {
          "base_uri": "https://localhost:8080/",
          "height": 317
        },
        "id": "tsuLSFajJ-mv",
        "outputId": "08da4fcc-2559-4349-f3e9-866548a2a871"
      },
      "source": [
        "daily_activity.describe()"
      ],
      "execution_count": null,
      "outputs": [
        {
          "output_type": "execute_result",
          "data": {
            "text/html": [
              "<div>\n",
              "<style scoped>\n",
              "    .dataframe tbody tr th:only-of-type {\n",
              "        vertical-align: middle;\n",
              "    }\n",
              "\n",
              "    .dataframe tbody tr th {\n",
              "        vertical-align: top;\n",
              "    }\n",
              "\n",
              "    .dataframe thead th {\n",
              "        text-align: right;\n",
              "    }\n",
              "</style>\n",
              "<table border=\"1\" class=\"dataframe\">\n",
              "  <thead>\n",
              "    <tr style=\"text-align: right;\">\n",
              "      <th></th>\n",
              "      <th>id</th>\n",
              "      <th>total_steps</th>\n",
              "      <th>total_dist</th>\n",
              "      <th>track_dist</th>\n",
              "      <th>logged_dist</th>\n",
              "      <th>very_active_dist</th>\n",
              "      <th>moderate_active_dist</th>\n",
              "      <th>light_active_dist</th>\n",
              "      <th>sedentary_active_dist</th>\n",
              "      <th>very_active_mins</th>\n",
              "      <th>fairly_active_mins</th>\n",
              "      <th>lightly_active_mins</th>\n",
              "      <th>sedentary_mins</th>\n",
              "      <th>calories</th>\n",
              "      <th>total_mins</th>\n",
              "    </tr>\n",
              "  </thead>\n",
              "  <tbody>\n",
              "    <tr>\n",
              "      <th>count</th>\n",
              "      <td>9.400000e+02</td>\n",
              "      <td>940.000000</td>\n",
              "      <td>940.000000</td>\n",
              "      <td>940.000000</td>\n",
              "      <td>940.000000</td>\n",
              "      <td>940.000000</td>\n",
              "      <td>940.000000</td>\n",
              "      <td>940.000000</td>\n",
              "      <td>940.000000</td>\n",
              "      <td>940.000000</td>\n",
              "      <td>940.000000</td>\n",
              "      <td>940.000000</td>\n",
              "      <td>940.000000</td>\n",
              "      <td>940.000000</td>\n",
              "      <td>940.000000</td>\n",
              "    </tr>\n",
              "    <tr>\n",
              "      <th>mean</th>\n",
              "      <td>4.855407e+09</td>\n",
              "      <td>7637.910638</td>\n",
              "      <td>5.489702</td>\n",
              "      <td>5.475351</td>\n",
              "      <td>0.108171</td>\n",
              "      <td>1.502681</td>\n",
              "      <td>0.567543</td>\n",
              "      <td>3.340819</td>\n",
              "      <td>0.001606</td>\n",
              "      <td>21.164894</td>\n",
              "      <td>13.564894</td>\n",
              "      <td>192.812766</td>\n",
              "      <td>991.210638</td>\n",
              "      <td>2303.609574</td>\n",
              "      <td>20.312553</td>\n",
              "    </tr>\n",
              "    <tr>\n",
              "      <th>std</th>\n",
              "      <td>2.424805e+09</td>\n",
              "      <td>5087.150742</td>\n",
              "      <td>3.924606</td>\n",
              "      <td>3.907276</td>\n",
              "      <td>0.619897</td>\n",
              "      <td>2.658941</td>\n",
              "      <td>0.883580</td>\n",
              "      <td>2.040655</td>\n",
              "      <td>0.007346</td>\n",
              "      <td>32.844803</td>\n",
              "      <td>19.987404</td>\n",
              "      <td>109.174700</td>\n",
              "      <td>301.267437</td>\n",
              "      <td>718.166862</td>\n",
              "      <td>4.432196</td>\n",
              "    </tr>\n",
              "    <tr>\n",
              "      <th>min</th>\n",
              "      <td>1.503960e+09</td>\n",
              "      <td>0.000000</td>\n",
              "      <td>0.000000</td>\n",
              "      <td>0.000000</td>\n",
              "      <td>0.000000</td>\n",
              "      <td>0.000000</td>\n",
              "      <td>0.000000</td>\n",
              "      <td>0.000000</td>\n",
              "      <td>0.000000</td>\n",
              "      <td>0.000000</td>\n",
              "      <td>0.000000</td>\n",
              "      <td>0.000000</td>\n",
              "      <td>0.000000</td>\n",
              "      <td>0.000000</td>\n",
              "      <td>0.033333</td>\n",
              "    </tr>\n",
              "    <tr>\n",
              "      <th>25%</th>\n",
              "      <td>2.320127e+09</td>\n",
              "      <td>3789.750000</td>\n",
              "      <td>2.620000</td>\n",
              "      <td>2.620000</td>\n",
              "      <td>0.000000</td>\n",
              "      <td>0.000000</td>\n",
              "      <td>0.000000</td>\n",
              "      <td>1.945000</td>\n",
              "      <td>0.000000</td>\n",
              "      <td>0.000000</td>\n",
              "      <td>0.000000</td>\n",
              "      <td>127.000000</td>\n",
              "      <td>729.750000</td>\n",
              "      <td>1828.500000</td>\n",
              "      <td>16.495833</td>\n",
              "    </tr>\n",
              "    <tr>\n",
              "      <th>50%</th>\n",
              "      <td>4.445115e+09</td>\n",
              "      <td>7405.500000</td>\n",
              "      <td>5.245000</td>\n",
              "      <td>5.245000</td>\n",
              "      <td>0.000000</td>\n",
              "      <td>0.210000</td>\n",
              "      <td>0.240000</td>\n",
              "      <td>3.365000</td>\n",
              "      <td>0.000000</td>\n",
              "      <td>4.000000</td>\n",
              "      <td>6.000000</td>\n",
              "      <td>199.000000</td>\n",
              "      <td>1057.500000</td>\n",
              "      <td>2134.000000</td>\n",
              "      <td>24.000000</td>\n",
              "    </tr>\n",
              "    <tr>\n",
              "      <th>75%</th>\n",
              "      <td>6.962181e+09</td>\n",
              "      <td>10727.000000</td>\n",
              "      <td>7.712500</td>\n",
              "      <td>7.710000</td>\n",
              "      <td>0.000000</td>\n",
              "      <td>2.052500</td>\n",
              "      <td>0.800000</td>\n",
              "      <td>4.782500</td>\n",
              "      <td>0.000000</td>\n",
              "      <td>32.000000</td>\n",
              "      <td>19.000000</td>\n",
              "      <td>264.000000</td>\n",
              "      <td>1229.500000</td>\n",
              "      <td>2793.250000</td>\n",
              "      <td>24.000000</td>\n",
              "    </tr>\n",
              "    <tr>\n",
              "      <th>max</th>\n",
              "      <td>8.877689e+09</td>\n",
              "      <td>36019.000000</td>\n",
              "      <td>28.030001</td>\n",
              "      <td>28.030001</td>\n",
              "      <td>4.942142</td>\n",
              "      <td>21.920000</td>\n",
              "      <td>6.480000</td>\n",
              "      <td>10.710000</td>\n",
              "      <td>0.110000</td>\n",
              "      <td>210.000000</td>\n",
              "      <td>143.000000</td>\n",
              "      <td>518.000000</td>\n",
              "      <td>1440.000000</td>\n",
              "      <td>4900.000000</td>\n",
              "      <td>24.000000</td>\n",
              "    </tr>\n",
              "  </tbody>\n",
              "</table>\n",
              "</div>"
            ],
            "text/plain": [
              "                 id   total_steps  ...     calories  total_mins\n",
              "count  9.400000e+02    940.000000  ...   940.000000  940.000000\n",
              "mean   4.855407e+09   7637.910638  ...  2303.609574   20.312553\n",
              "std    2.424805e+09   5087.150742  ...   718.166862    4.432196\n",
              "min    1.503960e+09      0.000000  ...     0.000000    0.033333\n",
              "25%    2.320127e+09   3789.750000  ...  1828.500000   16.495833\n",
              "50%    4.445115e+09   7405.500000  ...  2134.000000   24.000000\n",
              "75%    6.962181e+09  10727.000000  ...  2793.250000   24.000000\n",
              "max    8.877689e+09  36019.000000  ...  4900.000000   24.000000\n",
              "\n",
              "[8 rows x 15 columns]"
            ]
          },
          "metadata": {},
          "execution_count": 33
        }
      ]
    },
    {
      "cell_type": "code",
      "metadata": {
        "id": "P2bJJAjyMSqF",
        "colab": {
          "base_uri": "https://localhost:8080/",
          "height": 297
        },
        "outputId": "f60330e8-23c5-4d2a-8432-e9fb2ac159de"
      },
      "source": [
        "daily_sleep.describe()"
      ],
      "execution_count": null,
      "outputs": [
        {
          "output_type": "execute_result",
          "data": {
            "text/html": [
              "<div>\n",
              "<style scoped>\n",
              "    .dataframe tbody tr th:only-of-type {\n",
              "        vertical-align: middle;\n",
              "    }\n",
              "\n",
              "    .dataframe tbody tr th {\n",
              "        vertical-align: top;\n",
              "    }\n",
              "\n",
              "    .dataframe thead th {\n",
              "        text-align: right;\n",
              "    }\n",
              "</style>\n",
              "<table border=\"1\" class=\"dataframe\">\n",
              "  <thead>\n",
              "    <tr style=\"text-align: right;\">\n",
              "      <th></th>\n",
              "      <th>Id</th>\n",
              "      <th>TotalSleepRecords</th>\n",
              "      <th>TotalMinutesAsleep</th>\n",
              "      <th>TotalTimeInBed</th>\n",
              "    </tr>\n",
              "  </thead>\n",
              "  <tbody>\n",
              "    <tr>\n",
              "      <th>count</th>\n",
              "      <td>4.100000e+02</td>\n",
              "      <td>410.000000</td>\n",
              "      <td>410.000000</td>\n",
              "      <td>410.000000</td>\n",
              "    </tr>\n",
              "    <tr>\n",
              "      <th>mean</th>\n",
              "      <td>4.994963e+09</td>\n",
              "      <td>1.119512</td>\n",
              "      <td>419.173171</td>\n",
              "      <td>458.482927</td>\n",
              "    </tr>\n",
              "    <tr>\n",
              "      <th>std</th>\n",
              "      <td>2.060863e+09</td>\n",
              "      <td>0.346636</td>\n",
              "      <td>118.635918</td>\n",
              "      <td>127.455140</td>\n",
              "    </tr>\n",
              "    <tr>\n",
              "      <th>min</th>\n",
              "      <td>1.503960e+09</td>\n",
              "      <td>1.000000</td>\n",
              "      <td>58.000000</td>\n",
              "      <td>61.000000</td>\n",
              "    </tr>\n",
              "    <tr>\n",
              "      <th>25%</th>\n",
              "      <td>3.977334e+09</td>\n",
              "      <td>1.000000</td>\n",
              "      <td>361.000000</td>\n",
              "      <td>403.750000</td>\n",
              "    </tr>\n",
              "    <tr>\n",
              "      <th>50%</th>\n",
              "      <td>4.702922e+09</td>\n",
              "      <td>1.000000</td>\n",
              "      <td>432.500000</td>\n",
              "      <td>463.000000</td>\n",
              "    </tr>\n",
              "    <tr>\n",
              "      <th>75%</th>\n",
              "      <td>6.962181e+09</td>\n",
              "      <td>1.000000</td>\n",
              "      <td>490.000000</td>\n",
              "      <td>526.000000</td>\n",
              "    </tr>\n",
              "    <tr>\n",
              "      <th>max</th>\n",
              "      <td>8.792010e+09</td>\n",
              "      <td>3.000000</td>\n",
              "      <td>796.000000</td>\n",
              "      <td>961.000000</td>\n",
              "    </tr>\n",
              "  </tbody>\n",
              "</table>\n",
              "</div>"
            ],
            "text/plain": [
              "                 Id  TotalSleepRecords  TotalMinutesAsleep  TotalTimeInBed\n",
              "count  4.100000e+02         410.000000          410.000000      410.000000\n",
              "mean   4.994963e+09           1.119512          419.173171      458.482927\n",
              "std    2.060863e+09           0.346636          118.635918      127.455140\n",
              "min    1.503960e+09           1.000000           58.000000       61.000000\n",
              "25%    3.977334e+09           1.000000          361.000000      403.750000\n",
              "50%    4.702922e+09           1.000000          432.500000      463.000000\n",
              "75%    6.962181e+09           1.000000          490.000000      526.000000\n",
              "max    8.792010e+09           3.000000          796.000000      961.000000"
            ]
          },
          "metadata": {},
          "execution_count": 37
        }
      ]
    },
    {
      "cell_type": "markdown",
      "metadata": {
        "id": "gw-yIkCeK2R0"
      },
      "source": [
        "Statistical Findings:\n",
        "\n",
        "* On an average, users recorded 7638 steps or 5.4 kms \n",
        "* The users have logged average of 16 hrs or 991 inactive (Sedantary) Minutes\n",
        "* Calories burnt is 2303, but cannot ascertain as it depends on the users age, weight and other factors.\n",
        "\n",
        "* Users have 7.1 hours of sleep in a day"
      ]
    },
    {
      "cell_type": "code",
      "metadata": {
        "id": "ctZT4OmmDcCO"
      },
      "source": [
        "daily_corr = daily_activity.copy()"
      ],
      "execution_count": null,
      "outputs": []
    },
    {
      "cell_type": "code",
      "metadata": {
        "id": "42AUqI6EDj5Z"
      },
      "source": [
        "daily_corr=daily_corr.reindex(columns=['id','date','day_of_the_week','track_dist','logged_dist','very_active_dist','moderate_active_dist','light_active_dist','sedentary_active_dist','very_active_mins','fairly_active_mins','lightly_active_mins','sedentary_mins','total_steps','total_dist','total_mins','calories'])"
      ],
      "execution_count": null,
      "outputs": []
    },
    {
      "cell_type": "code",
      "metadata": {
        "colab": {
          "base_uri": "https://localhost:8080/"
        },
        "id": "XwLHlSFVCwGm",
        "outputId": "3126c481-be99-41a5-b8ac-fc18f6aa288c"
      },
      "source": [
        "daily_corr.info()"
      ],
      "execution_count": null,
      "outputs": [
        {
          "output_type": "stream",
          "text": [
            "<class 'pandas.core.frame.DataFrame'>\n",
            "RangeIndex: 940 entries, 0 to 939\n",
            "Data columns (total 17 columns):\n",
            " #   Column                 Non-Null Count  Dtype         \n",
            "---  ------                 --------------  -----         \n",
            " 0   id                     940 non-null    int64         \n",
            " 1   date                   940 non-null    datetime64[ns]\n",
            " 2   day_of_the_week        940 non-null    object        \n",
            " 3   track_dist             940 non-null    float64       \n",
            " 4   logged_dist            940 non-null    float64       \n",
            " 5   very_active_dist       940 non-null    float64       \n",
            " 6   moderate_active_dist   940 non-null    float64       \n",
            " 7   light_active_dist      940 non-null    float64       \n",
            " 8   sedentary_active_dist  940 non-null    float64       \n",
            " 9   very_active_mins       940 non-null    int64         \n",
            " 10  fairly_active_mins     940 non-null    int64         \n",
            " 11  lightly_active_mins    940 non-null    int64         \n",
            " 12  sedentary_mins         940 non-null    int64         \n",
            " 13  total_steps            940 non-null    int64         \n",
            " 14  total_dist             940 non-null    float64       \n",
            " 15  total_mins             940 non-null    float64       \n",
            " 16  calories               940 non-null    int64         \n",
            "dtypes: datetime64[ns](1), float64(8), int64(7), object(1)\n",
            "memory usage: 125.0+ KB\n"
          ],
          "name": "stdout"
        }
      ]
    },
    {
      "cell_type": "code",
      "metadata": {
        "id": "kIkNVaPICht2"
      },
      "source": [
        "daily_corr =daily_activity.corr()"
      ],
      "execution_count": null,
      "outputs": []
    },
    {
      "cell_type": "code",
      "metadata": {
        "colab": {
          "base_uri": "https://localhost:8080/",
          "height": 385
        },
        "id": "pBsWE83QCj2A",
        "outputId": "9d6769af-2d66-49a6-95e7-54f723adabcd"
      },
      "source": [
        "sns.heatmap(daily_corr, linecolor='white', linewidths=0.6)"
      ],
      "execution_count": null,
      "outputs": [
        {
          "output_type": "execute_result",
          "data": {
            "text/plain": [
              "<matplotlib.axes._subplots.AxesSubplot at 0x7f1fe3f36dd0>"
            ]
          },
          "metadata": {},
          "execution_count": 95
        },
        {
          "output_type": "display_data",
          "data": {
            "image/png": "[encoded data removed]",
            "text/plain": [
              "<Figure size 432x288 with 2 Axes>"
            ]
          },
          "metadata": {
            "needs_background": "light"
          }
        }
      ]
    },
    {
      "cell_type": "markdown",
      "metadata": {
        "id": "xIxRkPY5DCuA"
      },
      "source": [
        "**Identifying the Correlation** \n",
        "\n",
        "Every step taken, distance travelled and active minutes have positive correlation."
      ]
    },
    {
      "cell_type": "markdown",
      "metadata": {
        "id": "gDZn-NMACjMu"
      },
      "source": [
        "***Phase 5: Share***"
      ]
    },
    {
      "cell_type": "code",
      "metadata": {
        "id": "mGhxnY4yKxOZ",
        "colab": {
          "base_uri": "https://localhost:8080/",
          "height": 312
        },
        "outputId": "d234b168-c0e7-429d-e192-a18675e716e8"
      },
      "source": [
        "plt.hist(daily_activity.day_of_the_week, bins=7, width=0.6)\n",
        "plt.xlabel(\"Day of the week\")\n",
        "plt.ylabel(\"Frequency\")\n",
        "plt.title(\"No. of times users logged in app\")"
      ],
      "execution_count": null,
      "outputs": [
        {
          "output_type": "execute_result",
          "data": {
            "text/plain": [
              "Text(0.5, 1.0, 'No. of times users logged in app')"
            ]
          },
          "metadata": {},
          "execution_count": 42
        },
        {
          "output_type": "display_data",
          "data": {
            "image/png": "[encoded data removed]",
            "text/plain": [
              "<Figure size 432x288 with 1 Axes>"
            ]
          },
          "metadata": {
            "needs_background": "light"
          }
        }
      ]
    },
    {
      "cell_type": "markdown",
      "metadata": {
        "id": "Mn6EWjeAJZY9"
      },
      "source": [
        "**Observation**\n",
        "\n",
        "* Users are more active on mid-week from tuesday to thursday.\n",
        "\n",
        "* Other days users forget to track."
      ]
    },
    {
      "cell_type": "code",
      "metadata": {
        "colab": {
          "base_uri": "https://localhost:8080/",
          "height": 312
        },
        "id": "EbXLa1RoAuwN",
        "outputId": "452023a3-7e4a-4941-ba25-b506079b70fb"
      },
      "source": [
        "plt.scatter(daily_activity.total_steps,daily_activity.calories, c=daily_activity.calories)\n",
        "plt.xlabel(\"Steps taken\")\n",
        "plt.ylabel(\"Calories burned\")\n",
        "plt.title(\"Calories burned for every step taken\")"
      ],
      "execution_count": null,
      "outputs": [
        {
          "output_type": "execute_result",
          "data": {
            "text/plain": [
              "Text(0.5, 1.0, 'Calories burned for every step taken')"
            ]
          },
          "metadata": {},
          "execution_count": 49
        },
        {
          "output_type": "display_data",
          "data": {
            "image/png": "[encoded data removed]",
            "text/plain": [
              "<Figure size 432x288 with 1 Axes>"
            ]
          },
          "metadata": {
            "needs_background": "light"
          }
        }
      ]
    },
    {
      "cell_type": "markdown",
      "metadata": {
        "id": "u8oneXk_J-ZE"
      },
      "source": [
        "**Observation**\n",
        "\n",
        "* Users burn more calories when they take more steps. It has a positive correlation.\n",
        "\n",
        "* Data has few outliers.\n",
        "\n",
        "* Outliers could be because of human error or variation in data."
      ]
    },
    {
      "cell_type": "code",
      "metadata": {
        "colab": {
          "base_uri": "https://localhost:8080/",
          "height": 312
        },
        "id": "S3Qf6PwpJ-JF",
        "outputId": "9bda82cc-2429-4850-b24b-66754e31ac5e"
      },
      "source": [
        "plt.scatter(daily_activity.total_mins,daily_activity.calories, c=daily_activity.calories)\n",
        "plt.xlabel(\"Hours\")\n",
        "plt.ylabel(\"Calories burned\")\n",
        "plt.title(\"Calories burned every hour\")"
      ],
      "execution_count": null,
      "outputs": [
        {
          "output_type": "execute_result",
          "data": {
            "text/plain": [
              "Text(0.5, 1.0, 'Calories burned every hour')"
            ]
          },
          "metadata": {},
          "execution_count": 99
        },
        {
          "output_type": "display_data",
          "data": {
            "image/png": "[encoded data removed]",
            "text/plain": [
              "<Figure size 432x288 with 1 Axes>"
            ]
          },
          "metadata": {
            "needs_background": "light"
          }
        }
      ]
    },
    {
      "cell_type": "markdown",
      "metadata": {
        "id": "--IqaNo2LNy0"
      },
      "source": [
        "**Observations**\n",
        "\n",
        "* More calories are burnt in the range of 15-20 hours, but doesnot translate to positive correlation.\n",
        "\n",
        "* Few outliers in the data"
      ]
    },
    {
      "cell_type": "code",
      "metadata": {
        "colab": {
          "base_uri": "https://localhost:8080/",
          "height": 452
        },
        "id": "OrUXQJW_Bj5d",
        "outputId": "530cd4cf-ca8e-43ef-f589-23616b8a4316"
      },
      "source": [
        "very_active_mins = daily_activity['very_active_mins'].sum()\n",
        "fairly_active_mins = daily_activity['fairly_active_mins'].sum()\n",
        "lightly_active_mins = daily_activity['lightly_active_mins'].sum()\n",
        "sedentary_mins = daily_activity['sedentary_mins'].sum()\n",
        "\n",
        "lab=['very_active_mins','fairly_active_mins','lightly_active_mins','sedentary_mins']\n",
        "plt.pie([very_active_mins,fairly_active_mins,lightly_active_mins,sedentary_mins], labels=lab, autopct=\"%1.1f%%\", pctdistance=0.7,explode=[0.1,0,0.1,0.1] )"
      ],
      "execution_count": null,
      "outputs": [
        {
          "output_type": "execute_result",
          "data": {
            "text/plain": [
              "([<matplotlib.patches.Wedge at 0x7f1fe3b47150>,\n",
              "  <matplotlib.patches.Wedge at 0x7f1fe3b2b590>,\n",
              "  <matplotlib.patches.Wedge at 0x7f1fe3b2b6d0>,\n",
              "  <matplotlib.patches.Wedge at 0x7f1fe3abb810>],\n",
              " [Text(1.198214565351024, 0.06543588755917173, 'very_active_mins'),\n",
              "  Text(1.0886022147551395, 0.1579405522030527, 'fairly_active_mins'),\n",
              "  Text(0.936051364240948, 0.7508713894553849, 'lightly_active_mins'),\n",
              "  Text(-0.9994337278611289, -0.6641778554074256, 'sedentary_mins')],\n",
              " [Text(0.7988097102340159, 0.04362392503944782, '1.7%'),\n",
              "  Text(0.6927468639350888, 0.10050762412921534, '1.1%'),\n",
              "  Text(0.6240342428272986, 0.5005809263035899, '15.8%'),\n",
              "  Text(-0.6662891519074192, -0.4427852369382837, '81.3%')])"
            ]
          },
          "metadata": {},
          "execution_count": 116
        },
        {
          "output_type": "display_data",
          "data": {
            "image/png": "[encoded data removed]",
            "text/plain": [
              "<Figure size 432x288 with 1 Axes>"
            ]
          },
          "metadata": {}
        }
      ]
    },
    {
      "cell_type": "markdown",
      "metadata": {
        "id": "4s3j6b4vOM5v"
      },
      "source": [
        "**Observations**\n",
        "\n",
        "* Sedentary minutes takes the bigger cut at 81.3%\n",
        "\n",
        "* Where very active minutes is at 1.7%, the data have captured the users daily commute and regular errands, users are not much active on fitness."
      ]
    },
    {
      "cell_type": "code",
      "metadata": {
        "id": "CuUSVGQMZKgL"
      },
      "source": [
        "daily_sleep['sleep_hrs'] = daily_sleep['TotalMinutesAsleep'] /60\n",
        "daily_sleep['in_bed_hrs'] =daily_sleep['TotalTimeInBed']/60"
      ],
      "execution_count": null,
      "outputs": []
    },
    {
      "cell_type": "code",
      "metadata": {
        "colab": {
          "base_uri": "https://localhost:8080/",
          "height": 298
        },
        "id": "_HXIuawMWfEJ",
        "outputId": "aa4e77b5-918e-4af5-f327-cc7db97f7e02"
      },
      "source": [
        "plt.scatter(x=daily_sleep['sleep_hrs'],y=daily_sleep['in_bed_hrs'], c=daily_sleep['in_bed_hrs'],s=daily_sleep['in_bed_hrs'] , cmap='Wistia', edgecolors='black')\n",
        "plt.title(\"Total Sleep Time\")\n"
      ],
      "execution_count": null,
      "outputs": [
        {
          "output_type": "execute_result",
          "data": {
            "text/plain": [
              "Text(0.5, 1.0, 'Total Sleep Time')"
            ]
          },
          "metadata": {},
          "execution_count": 171
        },
        {
          "output_type": "display_data",
          "data": {
            "image/png": "[encoded data removed]",
            "text/plain": [
              "<Figure size 432x288 with 1 Axes>"
            ]
          },
          "metadata": {
            "needs_background": "light"
          }
        }
      ]
    },
    {
      "cell_type": "markdown",
      "metadata": {
        "id": "CWnQntFraBGa"
      },
      "source": [
        "**Observations**\n",
        "\n",
        "* Average sleep time for the logged in users is in the range of 6 to 9 hrs per day.\n",
        "\n",
        "* There are few outliers in the dataset.\n"
      ]
    },
    {
      "cell_type": "markdown",
      "metadata": {
        "id": "8kTCz77SPo30"
      },
      "source": [
        "***Phase 6: Act***\n",
        "\n"
      ]
    },
    {
      "cell_type": "markdown",
      "metadata": {
        "id": "dylct8RnUCHc"
      },
      "source": [
        "**Recommendation**\n",
        "\n",
        "1. What are the trends identified?\n",
        "  * 81.3% of the time users are inactive (sedentary).\n",
        "\n",
        "  * Users are active on weekdays and inactive on weekends.\n",
        "\n",
        "  * Users sleep between 6-9 hours per day.\n",
        "\n",
        "\n",
        "2. How could these trends apply to Bellabeat customers?\n",
        "\n",
        "  * Based on the activity levels and amount of calories burned, users appear to burn more calories with more exercise. Therefore, Bellabeat should encourage users to exercise more through reminders. Bellabeat could also create daily learder board based on steps taken and calories burnt.\n",
        "\n",
        "  * Inducing an habbit of doing excercise for 5 mins every hour of the active day by sending some reminders and notifications through the app. \n",
        "\n",
        "3. How could these trends help influence Bellabeat marketing strategy?\n",
        "\n",
        "  * The data shows that the sedentary minutes are more in the users daily routine. could be because of their work nature or used with their lazy routine. Bellabeat could create some short exercise videos for 5 mins which they can do even at their work place.\n",
        "\n",
        "  * To encourage better sleeping habits, Bellabeat could incorporate reminders through an app that notifies users of the best time to go to sleep and wake up in order to feel refreshed in the morning and get adequate amount of sleep. The app could also automatically turn on ‘do not disturb’ mode and turn on ‘night mode’ on the customers’ phones to signal the user that they are not disturbed by messages or phone calls from family and friends."
      ]
    },
    {
      "cell_type": "code",
      "metadata": {
        "id": "J5PLXufTUOxQ"
      },
      "source": [
        ""
      ],
      "execution_count": 172,
      "outputs": []
    },
    {
      "cell_type": "code",
      "metadata": {
        "id": "6qk04tWFrtIg"
      },
      "source": [
        ""
      ],
      "execution_count": null,
      "outputs": []
    }
  ]
}